{
 "cells": [
  {
   "cell_type": "markdown",
   "metadata": {},
   "source": [
    "# Students Career Prediction With Machine Learning"
   ]
  },
  {
   "cell_type": "markdown",
   "metadata": {},
   "source": [
    "**Career prediction with machine learning has become a popular area of research and development. Machine learning algorithms can analyze various factors such as a student's academic performance, interests, and skills to make accurate career predictions. These predictions can help students make informed decisions about their future careers and plan their academic and professional paths accordingly. Machine learning can also help educational institutions provide personalized career guidance to students based on their individual data.**"
   ]
  },
  {
   "cell_type": "markdown",
   "metadata": {},
   "source": [
    "##### The objective of this notebook is to predict career of the students using Machine Learning algorithms and analyzing them to find the best career options in the field they are interseted"
   ]
  },
  {
   "cell_type": "markdown",
   "metadata": {},
   "source": [
    "**The steps demonstrated in this notebook are:**\n",
    "1. Importing all the required libraries\n",
    "\n",
    "2. Loading the data\n",
    "\n",
    "3. Data Preprocessing\n",
    "\n",
    "4. Exploratory Data Analysis\n",
    "\n",
    "5. Feature Engineering\n",
    "\n",
    "6. Building Machine Learning Model"
   ]
  },
  {
   "cell_type": "markdown",
   "metadata": {},
   "source": [
    "## **1. Import required Libraries** "
   ]
  },
  {
   "cell_type": "code",
   "execution_count": 1,
   "metadata": {
    "execution": {
     "iopub.execute_input": "2021-05-21T09:14:42.293965Z",
     "iopub.status.busy": "2021-05-21T09:14:42.293578Z",
     "iopub.status.idle": "2021-05-21T09:14:42.300598Z",
     "shell.execute_reply": "2021-05-21T09:14:42.299138Z",
     "shell.execute_reply.started": "2021-05-21T09:14:42.293932Z"
    }
   },
   "outputs": [],
   "source": [
    "import pandas as pd\n",
    "import numpy as np\n",
    "import matplotlib.pyplot as plt\n",
    "import seaborn as sns\n",
    "from sklearn.model_selection import train_test_split\n",
    "from sklearn.metrics import confusion_matrix,accuracy_score\n",
    "from sklearn import svm\n",
    "from sklearn.tree import DecisionTreeClassifier\n",
    "from sklearn.ensemble import RandomForestClassifier"
   ]
  },
  {
   "cell_type": "markdown",
   "metadata": {},
   "source": [
    "## **2. Load the Data** "
   ]
  },
  {
   "cell_type": "code",
   "execution_count": 2,
   "metadata": {
    "execution": {
     "iopub.execute_input": "2021-05-21T09:14:43.702487Z",
     "iopub.status.busy": "2021-05-21T09:14:43.701875Z",
     "iopub.status.idle": "2021-05-21T09:14:43.913694Z",
     "shell.execute_reply": "2021-05-21T09:14:43.912306Z",
     "shell.execute_reply.started": "2021-05-21T09:14:43.702436Z"
    }
   },
   "outputs": [
    {
     "data": {
      "text/html": [
       "<div>\n",
       "<style scoped>\n",
       "    .dataframe tbody tr th:only-of-type {\n",
       "        vertical-align: middle;\n",
       "    }\n",
       "\n",
       "    .dataframe tbody tr th {\n",
       "        vertical-align: top;\n",
       "    }\n",
       "\n",
       "    .dataframe thead th {\n",
       "        text-align: right;\n",
       "    }\n",
       "</style>\n",
       "<table border=\"1\" class=\"dataframe\">\n",
       "  <thead>\n",
       "    <tr style=\"text-align: right;\">\n",
       "      <th></th>\n",
       "      <th>Logical quotient rating</th>\n",
       "      <th>hackathons</th>\n",
       "      <th>coding skills rating</th>\n",
       "      <th>public speaking points</th>\n",
       "      <th>self-learning capability?</th>\n",
       "      <th>Extra-courses did</th>\n",
       "      <th>certifications</th>\n",
       "      <th>workshops</th>\n",
       "      <th>reading and writing skills</th>\n",
       "      <th>memory capability score</th>\n",
       "      <th>Interested subjects</th>\n",
       "      <th>interested career area</th>\n",
       "      <th>Type of company want to settle in?</th>\n",
       "      <th>Taken inputs from seniors or elders</th>\n",
       "      <th>Interested Type of Books</th>\n",
       "      <th>Management or Technical</th>\n",
       "      <th>hard/smart worker</th>\n",
       "      <th>worked in teams ever?</th>\n",
       "      <th>Introvert</th>\n",
       "      <th>Suggested Job Role</th>\n",
       "    </tr>\n",
       "  </thead>\n",
       "  <tbody>\n",
       "    <tr>\n",
       "      <th>0</th>\n",
       "      <td>5</td>\n",
       "      <td>0</td>\n",
       "      <td>6</td>\n",
       "      <td>2</td>\n",
       "      <td>yes</td>\n",
       "      <td>no</td>\n",
       "      <td>information security</td>\n",
       "      <td>testing</td>\n",
       "      <td>poor</td>\n",
       "      <td>poor</td>\n",
       "      <td>programming</td>\n",
       "      <td>testing</td>\n",
       "      <td>BPA</td>\n",
       "      <td>no</td>\n",
       "      <td>Series</td>\n",
       "      <td>Management</td>\n",
       "      <td>smart worker</td>\n",
       "      <td>yes</td>\n",
       "      <td>no</td>\n",
       "      <td>Applications Developer</td>\n",
       "    </tr>\n",
       "    <tr>\n",
       "      <th>1</th>\n",
       "      <td>7</td>\n",
       "      <td>6</td>\n",
       "      <td>4</td>\n",
       "      <td>3</td>\n",
       "      <td>no</td>\n",
       "      <td>yes</td>\n",
       "      <td>shell programming</td>\n",
       "      <td>testing</td>\n",
       "      <td>excellent</td>\n",
       "      <td>medium</td>\n",
       "      <td>Management</td>\n",
       "      <td>system developer</td>\n",
       "      <td>Cloud Services</td>\n",
       "      <td>yes</td>\n",
       "      <td>Autobiographies</td>\n",
       "      <td>Technical</td>\n",
       "      <td>hard worker</td>\n",
       "      <td>no</td>\n",
       "      <td>yes</td>\n",
       "      <td>Applications Developer</td>\n",
       "    </tr>\n",
       "    <tr>\n",
       "      <th>2</th>\n",
       "      <td>2</td>\n",
       "      <td>3</td>\n",
       "      <td>9</td>\n",
       "      <td>1</td>\n",
       "      <td>no</td>\n",
       "      <td>yes</td>\n",
       "      <td>information security</td>\n",
       "      <td>testing</td>\n",
       "      <td>excellent</td>\n",
       "      <td>poor</td>\n",
       "      <td>data engineering</td>\n",
       "      <td>Business process analyst</td>\n",
       "      <td>product development</td>\n",
       "      <td>yes</td>\n",
       "      <td>Travel</td>\n",
       "      <td>Technical</td>\n",
       "      <td>smart worker</td>\n",
       "      <td>no</td>\n",
       "      <td>no</td>\n",
       "      <td>Applications Developer</td>\n",
       "    </tr>\n",
       "    <tr>\n",
       "      <th>3</th>\n",
       "      <td>2</td>\n",
       "      <td>6</td>\n",
       "      <td>3</td>\n",
       "      <td>5</td>\n",
       "      <td>no</td>\n",
       "      <td>yes</td>\n",
       "      <td>r programming</td>\n",
       "      <td>database security</td>\n",
       "      <td>excellent</td>\n",
       "      <td>poor</td>\n",
       "      <td>networks</td>\n",
       "      <td>testing</td>\n",
       "      <td>Testing and Maintainance Services</td>\n",
       "      <td>yes</td>\n",
       "      <td>Guide</td>\n",
       "      <td>Management</td>\n",
       "      <td>smart worker</td>\n",
       "      <td>yes</td>\n",
       "      <td>yes</td>\n",
       "      <td>Applications Developer</td>\n",
       "    </tr>\n",
       "    <tr>\n",
       "      <th>4</th>\n",
       "      <td>2</td>\n",
       "      <td>0</td>\n",
       "      <td>3</td>\n",
       "      <td>4</td>\n",
       "      <td>yes</td>\n",
       "      <td>no</td>\n",
       "      <td>distro making</td>\n",
       "      <td>game development</td>\n",
       "      <td>excellent</td>\n",
       "      <td>medium</td>\n",
       "      <td>Software Engineering</td>\n",
       "      <td>system developer</td>\n",
       "      <td>BPA</td>\n",
       "      <td>no</td>\n",
       "      <td>Health</td>\n",
       "      <td>Technical</td>\n",
       "      <td>hard worker</td>\n",
       "      <td>yes</td>\n",
       "      <td>no</td>\n",
       "      <td>Applications Developer</td>\n",
       "    </tr>\n",
       "  </tbody>\n",
       "</table>\n",
       "</div>"
      ],
      "text/plain": [
       "   Logical quotient rating  hackathons  coding skills rating  \\\n",
       "0                        5           0                     6   \n",
       "1                        7           6                     4   \n",
       "2                        2           3                     9   \n",
       "3                        2           6                     3   \n",
       "4                        2           0                     3   \n",
       "\n",
       "   public speaking points self-learning capability? Extra-courses did  \\\n",
       "0                       2                       yes                no   \n",
       "1                       3                        no               yes   \n",
       "2                       1                        no               yes   \n",
       "3                       5                        no               yes   \n",
       "4                       4                       yes                no   \n",
       "\n",
       "         certifications          workshops reading and writing skills  \\\n",
       "0  information security            testing                       poor   \n",
       "1     shell programming            testing                  excellent   \n",
       "2  information security            testing                  excellent   \n",
       "3         r programming  database security                  excellent   \n",
       "4         distro making   game development                  excellent   \n",
       "\n",
       "  memory capability score   Interested subjects   interested career area   \\\n",
       "0                    poor           programming                   testing   \n",
       "1                  medium            Management          system developer   \n",
       "2                    poor      data engineering  Business process analyst   \n",
       "3                    poor              networks                   testing   \n",
       "4                  medium  Software Engineering          system developer   \n",
       "\n",
       "  Type of company want to settle in? Taken inputs from seniors or elders  \\\n",
       "0                                BPA                                  no   \n",
       "1                     Cloud Services                                 yes   \n",
       "2                product development                                 yes   \n",
       "3  Testing and Maintainance Services                                 yes   \n",
       "4                                BPA                                  no   \n",
       "\n",
       "  Interested Type of Books Management or Technical hard/smart worker  \\\n",
       "0                   Series              Management      smart worker   \n",
       "1          Autobiographies               Technical       hard worker   \n",
       "2                   Travel               Technical      smart worker   \n",
       "3                    Guide              Management      smart worker   \n",
       "4                   Health               Technical       hard worker   \n",
       "\n",
       "  worked in teams ever? Introvert      Suggested Job Role  \n",
       "0                   yes        no  Applications Developer  \n",
       "1                    no       yes  Applications Developer  \n",
       "2                    no        no  Applications Developer  \n",
       "3                   yes       yes  Applications Developer  \n",
       "4                   yes        no  Applications Developer  "
      ]
     },
     "execution_count": 2,
     "metadata": {},
     "output_type": "execute_result"
    }
   ],
   "source": [
    "df = pd.read_csv('mldata.csv.xls')\n",
    "df.head()"
   ]
  },
  {
   "cell_type": "code",
   "execution_count": 3,
   "metadata": {
    "execution": {
     "iopub.execute_input": "2021-05-21T09:14:44.069016Z",
     "iopub.status.busy": "2021-05-21T09:14:44.068615Z",
     "iopub.status.idle": "2021-05-21T09:14:44.074579Z",
     "shell.execute_reply": "2021-05-21T09:14:44.073475Z",
     "shell.execute_reply.started": "2021-05-21T09:14:44.068982Z"
    }
   },
   "outputs": [
    {
     "name": "stdout",
     "output_type": "stream",
     "text": [
      "The shape of our training set: 6901 professionals and 20 features\n"
     ]
    }
   ],
   "source": [
    "print('The shape of our training set: %s professionals and %s features'%(df.shape[0],df.shape[1]))"
   ]
  },
  {
   "cell_type": "code",
   "execution_count": 4,
   "metadata": {},
   "outputs": [
    {
     "name": "stdout",
     "output_type": "stream",
     "text": [
      "<class 'pandas.core.frame.DataFrame'>\n",
      "RangeIndex: 6901 entries, 0 to 6900\n",
      "Data columns (total 20 columns):\n",
      " #   Column                               Non-Null Count  Dtype \n",
      "---  ------                               --------------  ----- \n",
      " 0   Logical quotient rating              6901 non-null   int64 \n",
      " 1   hackathons                           6901 non-null   int64 \n",
      " 2   coding skills rating                 6901 non-null   int64 \n",
      " 3   public speaking points               6901 non-null   int64 \n",
      " 4   self-learning capability?            6901 non-null   object\n",
      " 5   Extra-courses did                    6901 non-null   object\n",
      " 6   certifications                       6901 non-null   object\n",
      " 7   workshops                            6901 non-null   object\n",
      " 8   reading and writing skills           6901 non-null   object\n",
      " 9   memory capability score              6901 non-null   object\n",
      " 10  Interested subjects                  6901 non-null   object\n",
      " 11  interested career area               6901 non-null   object\n",
      " 12  Type of company want to settle in?   6901 non-null   object\n",
      " 13  Taken inputs from seniors or elders  6901 non-null   object\n",
      " 14  Interested Type of Books             6901 non-null   object\n",
      " 15  Management or Technical              6901 non-null   object\n",
      " 16  hard/smart worker                    6901 non-null   object\n",
      " 17  worked in teams ever?                6901 non-null   object\n",
      " 18  Introvert                            6901 non-null   object\n",
      " 19  Suggested Job Role                   6901 non-null   object\n",
      "dtypes: int64(4), object(16)\n",
      "memory usage: 1.1+ MB\n"
     ]
    }
   ],
   "source": [
    "# This whill information about the dataset\n",
    "df.info()"
   ]
  },
  {
   "cell_type": "code",
   "execution_count": 5,
   "metadata": {},
   "outputs": [
    {
     "data": {
      "text/html": [
       "<div>\n",
       "<style scoped>\n",
       "    .dataframe tbody tr th:only-of-type {\n",
       "        vertical-align: middle;\n",
       "    }\n",
       "\n",
       "    .dataframe tbody tr th {\n",
       "        vertical-align: top;\n",
       "    }\n",
       "\n",
       "    .dataframe thead th {\n",
       "        text-align: right;\n",
       "    }\n",
       "</style>\n",
       "<table border=\"1\" class=\"dataframe\">\n",
       "  <thead>\n",
       "    <tr style=\"text-align: right;\">\n",
       "      <th></th>\n",
       "      <th>Logical quotient rating</th>\n",
       "      <th>hackathons</th>\n",
       "      <th>coding skills rating</th>\n",
       "      <th>public speaking points</th>\n",
       "    </tr>\n",
       "  </thead>\n",
       "  <tbody>\n",
       "    <tr>\n",
       "      <th>count</th>\n",
       "      <td>6901.000000</td>\n",
       "      <td>6901.000000</td>\n",
       "      <td>6901.000000</td>\n",
       "      <td>6901.000000</td>\n",
       "    </tr>\n",
       "    <tr>\n",
       "      <th>mean</th>\n",
       "      <td>4.991016</td>\n",
       "      <td>2.999710</td>\n",
       "      <td>5.010723</td>\n",
       "      <td>4.988263</td>\n",
       "    </tr>\n",
       "    <tr>\n",
       "      <th>std</th>\n",
       "      <td>2.577704</td>\n",
       "      <td>2.010191</td>\n",
       "      <td>2.568347</td>\n",
       "      <td>2.599500</td>\n",
       "    </tr>\n",
       "    <tr>\n",
       "      <th>min</th>\n",
       "      <td>1.000000</td>\n",
       "      <td>0.000000</td>\n",
       "      <td>1.000000</td>\n",
       "      <td>1.000000</td>\n",
       "    </tr>\n",
       "    <tr>\n",
       "      <th>25%</th>\n",
       "      <td>3.000000</td>\n",
       "      <td>1.000000</td>\n",
       "      <td>3.000000</td>\n",
       "      <td>3.000000</td>\n",
       "    </tr>\n",
       "    <tr>\n",
       "      <th>50%</th>\n",
       "      <td>5.000000</td>\n",
       "      <td>3.000000</td>\n",
       "      <td>5.000000</td>\n",
       "      <td>5.000000</td>\n",
       "    </tr>\n",
       "    <tr>\n",
       "      <th>75%</th>\n",
       "      <td>7.000000</td>\n",
       "      <td>5.000000</td>\n",
       "      <td>7.000000</td>\n",
       "      <td>7.000000</td>\n",
       "    </tr>\n",
       "    <tr>\n",
       "      <th>max</th>\n",
       "      <td>9.000000</td>\n",
       "      <td>6.000000</td>\n",
       "      <td>9.000000</td>\n",
       "      <td>9.000000</td>\n",
       "    </tr>\n",
       "  </tbody>\n",
       "</table>\n",
       "</div>"
      ],
      "text/plain": [
       "       Logical quotient rating   hackathons  coding skills rating  \\\n",
       "count              6901.000000  6901.000000           6901.000000   \n",
       "mean                  4.991016     2.999710              5.010723   \n",
       "std                   2.577704     2.010191              2.568347   \n",
       "min                   1.000000     0.000000              1.000000   \n",
       "25%                   3.000000     1.000000              3.000000   \n",
       "50%                   5.000000     3.000000              5.000000   \n",
       "75%                   7.000000     5.000000              7.000000   \n",
       "max                   9.000000     6.000000              9.000000   \n",
       "\n",
       "       public speaking points  \n",
       "count             6901.000000  \n",
       "mean                 4.988263  \n",
       "std                  2.599500  \n",
       "min                  1.000000  \n",
       "25%                  3.000000  \n",
       "50%                  5.000000  \n",
       "75%                  7.000000  \n",
       "max                  9.000000  "
      ]
     },
     "execution_count": 5,
     "metadata": {},
     "output_type": "execute_result"
    }
   ],
   "source": [
    "# It will give the stastical information about the dataset\n",
    "df.describe()"
   ]
  },
  {
   "cell_type": "markdown",
   "metadata": {},
   "source": [
    "## **3. Data Preprocessing** "
   ]
  },
  {
   "cell_type": "code",
   "execution_count": 6,
   "metadata": {
    "execution": {
     "iopub.execute_input": "2021-05-21T09:14:45.700499Z",
     "iopub.status.busy": "2021-05-21T09:14:45.700099Z",
     "iopub.status.idle": "2021-05-21T09:14:45.706846Z",
     "shell.execute_reply": "2021-05-21T09:14:45.705700Z",
     "shell.execute_reply.started": "2021-05-21T09:14:45.700466Z"
    }
   },
   "outputs": [
    {
     "name": "stdout",
     "output_type": "stream",
     "text": [
      "Columns in our dataset:  Index(['Logical quotient rating', 'hackathons', 'coding skills rating',\n",
      "       'public speaking points', 'self-learning capability?',\n",
      "       'Extra-courses did', 'certifications', 'workshops',\n",
      "       'reading and writing skills', 'memory capability score',\n",
      "       'Interested subjects', 'interested career area ',\n",
      "       'Type of company want to settle in?',\n",
      "       'Taken inputs from seniors or elders', 'Interested Type of Books',\n",
      "       'Management or Technical', 'hard/smart worker', 'worked in teams ever?',\n",
      "       'Introvert', 'Suggested Job Role'],\n",
      "      dtype='object')\n"
     ]
    }
   ],
   "source": [
    "print(\"Columns in our dataset: \" , df.columns)"
   ]
  },
  {
   "cell_type": "code",
   "execution_count": 7,
   "metadata": {
    "execution": {
     "iopub.execute_input": "2021-05-21T09:14:46.244503Z",
     "iopub.status.busy": "2021-05-21T09:14:46.244091Z",
     "iopub.status.idle": "2021-05-21T09:14:46.257358Z",
     "shell.execute_reply": "2021-05-21T09:14:46.256153Z",
     "shell.execute_reply.started": "2021-05-21T09:14:46.244469Z"
    }
   },
   "outputs": [
    {
     "name": "stdout",
     "output_type": "stream",
     "text": [
      "List of Numerical features: \n",
      " ['Logical quotient rating', 'hackathons', 'coding skills rating', 'public speaking points']\n",
      "\n",
      "\n",
      "List of Categorical features: \n",
      " ['self-learning capability?', 'Extra-courses did', 'certifications', 'workshops', 'reading and writing skills', 'memory capability score', 'Interested subjects', 'interested career area ', 'Type of company want to settle in?', 'Taken inputs from seniors or elders', 'Interested Type of Books', 'Management or Technical', 'hard/smart worker', 'worked in teams ever?', 'Introvert', 'Suggested Job Role']\n"
     ]
    }
   ],
   "source": [
    "print(\"List of Numerical features: \\n\" , df.select_dtypes(include=np.number).columns.tolist())\n",
    "print(\"\\n\\nList of Categorical features: \\n\" , df.select_dtypes(include=['object']).columns.tolist())"
   ]
  },
  {
   "cell_type": "markdown",
   "metadata": {},
   "source": [
    "### (1) Checking Missing Values"
   ]
  },
  {
   "cell_type": "code",
   "execution_count": 8,
   "metadata": {
    "execution": {
     "iopub.execute_input": "2021-05-21T09:14:47.285358Z",
     "iopub.status.busy": "2021-05-21T09:14:47.284983Z",
     "iopub.status.idle": "2021-05-21T09:14:47.307445Z",
     "shell.execute_reply": "2021-05-21T09:14:47.306040Z",
     "shell.execute_reply.started": "2021-05-21T09:14:47.285328Z"
    }
   },
   "outputs": [
    {
     "data": {
      "text/plain": [
       "Logical quotient rating                0\n",
       "hackathons                             0\n",
       "coding skills rating                   0\n",
       "public speaking points                 0\n",
       "self-learning capability?              0\n",
       "Extra-courses did                      0\n",
       "certifications                         0\n",
       "workshops                              0\n",
       "reading and writing skills             0\n",
       "memory capability score                0\n",
       "Interested subjects                    0\n",
       "interested career area                 0\n",
       "Type of company want to settle in?     0\n",
       "Taken inputs from seniors or elders    0\n",
       "Interested Type of Books               0\n",
       "Management or Technical                0\n",
       "hard/smart worker                      0\n",
       "worked in teams ever?                  0\n",
       "Introvert                              0\n",
       "Suggested Job Role                     0\n",
       "dtype: int64"
      ]
     },
     "execution_count": 8,
     "metadata": {},
     "output_type": "execute_result"
    }
   ],
   "source": [
    "df.isnull().sum(axis=0)"
   ]
  },
  {
   "cell_type": "markdown",
   "metadata": {},
   "source": [
    "**Observation: No missing values.**"
   ]
  },
  {
   "cell_type": "markdown",
   "metadata": {},
   "source": [
    "### (2) Checking Distinct Values for Categorical Features"
   ]
  },
  {
   "cell_type": "code",
   "execution_count": 9,
   "metadata": {
    "execution": {
     "iopub.execute_input": "2021-05-21T09:14:48.679051Z",
     "iopub.status.busy": "2021-05-21T09:14:48.678627Z",
     "iopub.status.idle": "2021-05-21T09:14:48.733352Z",
     "shell.execute_reply": "2021-05-21T09:14:48.731989Z",
     "shell.execute_reply.started": "2021-05-21T09:14:48.679014Z"
    }
   },
   "outputs": [
    {
     "name": "stdout",
     "output_type": "stream",
     "text": [
      "yes    3496\n",
      "no     3405\n",
      "Name: self-learning capability?, dtype: int64\n",
      "\n",
      "no     3529\n",
      "yes    3372\n",
      "Name: Extra-courses did, dtype: int64\n",
      "\n",
      "excellent    2328\n",
      "medium       2315\n",
      "poor         2258\n",
      "Name: reading and writing skills, dtype: int64\n",
      "\n",
      "medium       2317\n",
      "excellent    2303\n",
      "poor         2281\n",
      "Name: memory capability score, dtype: int64\n",
      "\n",
      "yes    3501\n",
      "no     3400\n",
      "Name: Taken inputs from seniors or elders, dtype: int64\n",
      "\n",
      "Management    3461\n",
      "Technical     3440\n",
      "Name: Management or Technical, dtype: int64\n",
      "\n",
      "smart worker    3523\n",
      "hard worker     3378\n",
      "Name: hard/smart worker, dtype: int64\n",
      "\n",
      "no     3470\n",
      "yes    3431\n",
      "Name: worked in teams ever?, dtype: int64\n",
      "\n",
      "yes    3544\n",
      "no     3357\n",
      "Name: Introvert, dtype: int64\n",
      "\n",
      "system developer            1178\n",
      "security                    1177\n",
      "Business process analyst    1154\n",
      "developer                   1145\n",
      "testing                     1128\n",
      "cloud computing             1119\n",
      "Name: interested career area , dtype: int64\n",
      "\n"
     ]
    }
   ],
   "source": [
    "# It will show number of yes and no is the perticular column\n",
    "categorical_col = df[['self-learning capability?', 'Extra-courses did','reading and writing skills', 'memory capability score', \n",
    "                      'Taken inputs from seniors or elders', 'Management or Technical', 'hard/smart worker', 'worked in teams ever?', \n",
    "                      'Introvert', 'interested career area ']]\n",
    "for i in categorical_col:\n",
    "    print(df[i].value_counts(), end=\"\\n\\n\")"
   ]
  },
  {
   "cell_type": "markdown",
   "metadata": {},
   "source": [
    "**Observations:**\n",
    "**The categorical features with yes or no can be made numerical easily using binary encoding.**"
   ]
  },
  {
   "cell_type": "markdown",
   "metadata": {},
   "source": [
    "### (3) Checking Data Balancing for Classification"
   ]
  },
  {
   "cell_type": "code",
   "execution_count": 10,
   "metadata": {
    "execution": {
     "iopub.execute_input": "2021-05-21T09:14:49.890509Z",
     "iopub.status.busy": "2021-05-21T09:14:49.890026Z",
     "iopub.status.idle": "2021-05-21T09:14:50.273797Z",
     "shell.execute_reply": "2021-05-21T09:14:50.272538Z",
     "shell.execute_reply.started": "2021-05-21T09:14:49.890449Z"
    }
   },
   "outputs": [
    {
     "data": {
      "text/plain": [
       "<AxesSubplot:xlabel='Suggested Job Role', ylabel='count'>"
      ]
     },
     "execution_count": 10,
     "metadata": {},
     "output_type": "execute_result"
    },
    {
     "data": {
      "image/png": "[encoded data removed]",
      "text/plain": [
       "<Figure size 3600x720 with 1 Axes>"
      ]
     },
     "metadata": {},
     "output_type": "display_data"
    }
   ],
   "source": [
    "# It will suggest that what are the job roles currently in demand based on their count value\n",
    "sns.set(rc={'figure.figsize':(50,10)})\n",
    "sns.countplot(x = df[\"Suggested Job Role\"])"
   ]
  },
  {
   "cell_type": "markdown",
   "metadata": {},
   "source": [
    "## **4. Exploratory Data Analysis** "
   ]
  },
  {
   "cell_type": "markdown",
   "metadata": {},
   "source": [
    "### (1) Correlation Between Numerical Features"
   ]
  },
  {
   "cell_type": "code",
   "execution_count": 11,
   "metadata": {
    "execution": {
     "iopub.execute_input": "2021-05-21T09:14:51.054559Z",
     "iopub.status.busy": "2021-05-21T09:14:51.053970Z",
     "iopub.status.idle": "2021-05-21T09:14:51.424792Z",
     "shell.execute_reply": "2021-05-21T09:14:51.423212Z",
     "shell.execute_reply.started": "2021-05-21T09:14:51.054502Z"
    }
   },
   "outputs": [
    {
     "data": {
      "text/plain": [
       "<AxesSubplot:>"
      ]
     },
     "execution_count": 11,
     "metadata": {},
     "output_type": "execute_result"
    },
    {
     "data": {
      "image/png": "[encoded data removed]",
      "text/plain": [
       "<Figure size 720x720 with 2 Axes>"
      ]
     },
     "metadata": {},
     "output_type": "display_data"
    }
   ],
   "source": [
    "# Here heatmap graph is ploted for the correlation. Numeric data will gives the best correlation\n",
    "corr = df[['Logical quotient rating', 'hackathons', \n",
    "           'coding skills rating', 'public speaking points']].corr()\n",
    "f,axes = plt.subplots(1,1,figsize = (10,10))\n",
    "sns.heatmap(corr,square=True,annot = True,linewidth = .4,center = 2,ax = axes)"
   ]
  },
  {
   "cell_type": "markdown",
   "metadata": {},
   "source": [
    "**Observation: No highly corelated numerical pair found.**"
   ]
  },
  {
   "cell_type": "markdown",
   "metadata": {},
   "source": [
    "## (2) Visualization for Categorical Variables"
   ]
  },
  {
   "cell_type": "code",
   "execution_count": 12,
   "metadata": {
    "execution": {
     "iopub.execute_input": "2021-05-21T09:14:52.138482Z",
     "iopub.status.busy": "2021-05-21T09:14:52.138050Z",
     "iopub.status.idle": "2021-05-21T09:14:52.148135Z",
     "shell.execute_reply": "2021-05-21T09:14:52.146704Z",
     "shell.execute_reply.started": "2021-05-21T09:14:52.138446Z"
    }
   },
   "outputs": [
    {
     "name": "stdout",
     "output_type": "stream",
     "text": [
      "Software Engineering     731\n",
      "IOT                      722\n",
      "cloud computing          721\n",
      "programming              716\n",
      "networks                 713\n",
      "Computer Architecture    703\n",
      "data engineering         672\n",
      "hacking                  663\n",
      "Management               644\n",
      "parallel computing       616\n",
      "Name: Interested subjects, dtype: int64\n"
     ]
    }
   ],
   "source": [
    "print(df[\"Interested subjects\"].value_counts())"
   ]
  },
  {
   "cell_type": "code",
   "execution_count": 13,
   "metadata": {
    "execution": {
     "iopub.execute_input": "2021-05-21T09:14:52.547914Z",
     "iopub.status.busy": "2021-05-21T09:14:52.547550Z",
     "iopub.status.idle": "2021-05-21T09:14:52.847939Z",
     "shell.execute_reply": "2021-05-21T09:14:52.846740Z",
     "shell.execute_reply.started": "2021-05-21T09:14:52.547884Z"
    }
   },
   "outputs": [
    {
     "data": {
      "image/png": "[encoded data removed]",
      "text/plain": [
       "<Figure size 864x432 with 1 Axes>"
      ]
     },
     "metadata": {},
     "output_type": "display_data"
    }
   ],
   "source": [
    "# Figure Size\n",
    "fig, ax = plt.subplots(figsize=(12,6))\n",
    "\n",
    "# Horizontal Bar Plot\n",
    "title_cnt=df[\"Interested subjects\"].value_counts().sort_values(ascending=False).reset_index()\n",
    "mn= ax.barh(title_cnt.iloc[:,0], title_cnt.iloc[:,1],edgecolor='black', color=sns.color_palette('pastel',len(title_cnt)))\n",
    "\n",
    "# Remove axes splines\n",
    "for s in ['top','bottom','left','right']:\n",
    "    ax.spines[s].set_visible(False)\n",
    "\n",
    "# Remove x,y Ticks\n",
    "ax.xaxis.set_ticks_position('none')\n",
    "ax.yaxis.set_ticks_position('none')\n",
    "# Add padding between axes and labels\n",
    "ax.xaxis.set_tick_params(pad=5)\n",
    "ax.yaxis.set_tick_params(pad=10)\n",
    "\n",
    "\n",
    "# Show top values \n",
    "ax.invert_yaxis()\n",
    "\n",
    "# Add Plot Title\n",
    "ax.set_title('Interested Subjects',weight='bold',fontsize=20)\n",
    "ax.set_xlabel('Count', weight='bold')\n",
    "\n",
    "# Add annotation to bars\n",
    "for i in ax.patches:\n",
    "    ax.text(i.get_width()+1, i.get_y()+0.5, str(round((i.get_width()), 2)),\n",
    "             fontsize=10, fontweight='bold', color='grey')\n",
    "plt.yticks(weight='bold')\n",
    "plt.xticks(weight='bold')\n",
    "\n",
    "# Show Plot\n",
    "plt.show()"
   ]
  },
  {
   "cell_type": "code",
   "execution_count": 14,
   "metadata": {
    "execution": {
     "iopub.execute_input": "2021-05-21T09:14:52.927093Z",
     "iopub.status.busy": "2021-05-21T09:14:52.926743Z",
     "iopub.status.idle": "2021-05-21T09:14:52.936450Z",
     "shell.execute_reply": "2021-05-21T09:14:52.935230Z",
     "shell.execute_reply.started": "2021-05-21T09:14:52.927062Z"
    }
   },
   "outputs": [
    {
     "name": "stdout",
     "output_type": "stream",
     "text": [
      "Guide                    405\n",
      "Health                   401\n",
      "Self help                377\n",
      "Horror                   377\n",
      "Biographies              219\n",
      "Science fiction          218\n",
      "Satire                   212\n",
      "Childrens                212\n",
      "Autobiographies          210\n",
      "Prayer books             207\n",
      "Fantasy                  205\n",
      "Journals                 203\n",
      "Trilogy                  203\n",
      "Anthology                202\n",
      "Encyclopedias            201\n",
      "Drama                    201\n",
      "Mystery                  200\n",
      "History                  199\n",
      "Science                  198\n",
      "Dictionaries             198\n",
      "Diaries                  197\n",
      "Religion-Spirituality    197\n",
      "Action and Adventure     193\n",
      "Poetry                   193\n",
      "Cookbooks                186\n",
      "Comics                   186\n",
      "Art                      186\n",
      "Travel                   186\n",
      "Series                   180\n",
      "Math                     176\n",
      "Romance                  173\n",
      "Name: Interested Type of Books, dtype: int64\n"
     ]
    }
   ],
   "source": [
    "print(df[\"Interested Type of Books\"].value_counts())"
   ]
  },
  {
   "cell_type": "code",
   "execution_count": 15,
   "metadata": {
    "execution": {
     "iopub.execute_input": "2021-05-21T09:14:53.304220Z",
     "iopub.status.busy": "2021-05-21T09:14:53.303797Z",
     "iopub.status.idle": "2021-05-21T09:14:53.928148Z",
     "shell.execute_reply": "2021-05-21T09:14:53.926775Z",
     "shell.execute_reply.started": "2021-05-21T09:14:53.304142Z"
    }
   },
   "outputs": [
    {
     "data": {
      "image/png": "[encoded data removed]",
      "text/plain": [
       "<Figure size 864x1080 with 1 Axes>"
      ]
     },
     "metadata": {},
     "output_type": "display_data"
    }
   ],
   "source": [
    "# Figure Size\n",
    "fig, ax = plt.subplots(figsize=(12,15))\n",
    "\n",
    "# Horizontal Bar Plot\n",
    "title_cnt=df[\"Interested Type of Books\"].value_counts().sort_values(ascending=False).reset_index()\n",
    "mn= ax.barh(title_cnt.iloc[:,0], title_cnt.iloc[:,1],edgecolor='black', color=sns.color_palette('pastel',len(title_cnt)))\n",
    "\n",
    "\n",
    "\n",
    "# Remove axes splines\n",
    "for s in ['top','bottom','left','right']:\n",
    "    ax.spines[s].set_visible(False)\n",
    "\n",
    "# Remove x,y Ticks\n",
    "ax.xaxis.set_ticks_position('none')\n",
    "ax.yaxis.set_ticks_position('none')\n",
    "# Add padding between axes and labels\n",
    "ax.xaxis.set_tick_params(pad=5)\n",
    "ax.yaxis.set_tick_params(pad=10)\n",
    "\n",
    "\n",
    "# Show top values \n",
    "ax.invert_yaxis()\n",
    "\n",
    "# Add Plot Title\n",
    "ax.set_title('Interested Books',weight='bold',fontsize=20)\n",
    "ax.set_xlabel('Count', weight='bold')\n",
    "\n",
    "# Add annotation to bars\n",
    "for i in ax.patches:\n",
    "    ax.text(i.get_width()+1, i.get_y()+0.5, str(round((i.get_width()), 2)),\n",
    "             fontsize=10, fontweight='bold', color='grey')\n",
    "plt.yticks(weight='bold')\n",
    "plt.xticks(weight='bold')\n",
    "\n",
    "# Show Plot\n",
    "plt.show()"
   ]
  },
  {
   "cell_type": "code",
   "execution_count": 16,
   "metadata": {
    "execution": {
     "iopub.execute_input": "2021-05-21T09:14:53.930671Z",
     "iopub.status.busy": "2021-05-21T09:14:53.930201Z",
     "iopub.status.idle": "2021-05-21T09:14:53.940055Z",
     "shell.execute_reply": "2021-05-21T09:14:53.939127Z",
     "shell.execute_reply.started": "2021-05-21T09:14:53.930625Z"
    }
   },
   "outputs": [
    {
     "name": "stdout",
     "output_type": "stream",
     "text": [
      "r programming           803\n",
      "information security    785\n",
      "shell programming       783\n",
      "machine learning        783\n",
      "full stack              768\n",
      "hadoop                  764\n",
      "python                  756\n",
      "distro making           740\n",
      "app development         719\n",
      "Name: certifications, dtype: int64\n"
     ]
    }
   ],
   "source": [
    "print(df[\"certifications\"].value_counts())"
   ]
  },
  {
   "cell_type": "code",
   "execution_count": 17,
   "metadata": {
    "execution": {
     "iopub.execute_input": "2021-05-21T09:14:54.083771Z",
     "iopub.status.busy": "2021-05-21T09:14:54.083157Z",
     "iopub.status.idle": "2021-05-21T09:14:54.383606Z",
     "shell.execute_reply": "2021-05-21T09:14:54.382132Z",
     "shell.execute_reply.started": "2021-05-21T09:14:54.083716Z"
    }
   },
   "outputs": [
    {
     "data": {
      "image/png": "[encoded data removed]",
      "text/plain": [
       "<Figure size 864x432 with 1 Axes>"
      ]
     },
     "metadata": {},
     "output_type": "display_data"
    }
   ],
   "source": [
    "# Figure Size\n",
    "fig, ax = plt.subplots(figsize=(12,6))\n",
    "\n",
    "# Horizontal Bar Plot\n",
    "title_cnt=df.certifications.value_counts().sort_values(ascending=False).reset_index()\n",
    "mn= ax.barh(title_cnt.iloc[:,0], title_cnt.iloc[:,1],edgecolor='black', color=sns.color_palette('pastel',len(title_cnt)))\n",
    "\n",
    "\n",
    "\n",
    "# Remove axes splines\n",
    "for s in ['top','bottom','left','right']:\n",
    "    ax.spines[s].set_visible(False)\n",
    "\n",
    "# Remove x,y Ticks\n",
    "ax.xaxis.set_ticks_position('none')\n",
    "ax.yaxis.set_ticks_position('none')\n",
    "# Add padding between axes and labels\n",
    "ax.xaxis.set_tick_params(pad=5)\n",
    "ax.yaxis.set_tick_params(pad=10)\n",
    "\n",
    "\n",
    "# Show top values \n",
    "ax.invert_yaxis()\n",
    "\n",
    "# Add Plot Title\n",
    "ax.set_title('Certifications',weight='bold',fontsize=20)\n",
    "ax.set_xlabel('Count', weight='bold')\n",
    "\n",
    "# Add annotation to bars\n",
    "for i in ax.patches:\n",
    "    ax.text(i.get_width()+1, i.get_y()+0.5, str(round((i.get_width()), 2)),\n",
    "             fontsize=10, fontweight='bold', color='grey')\n",
    "plt.yticks(weight='bold')\n",
    "plt.xticks(weight='bold')\n",
    "\n",
    "# Show Plot\n",
    "plt.show()"
   ]
  },
  {
   "cell_type": "code",
   "execution_count": 18,
   "metadata": {
    "execution": {
     "iopub.execute_input": "2021-05-21T09:14:54.492267Z",
     "iopub.status.busy": "2021-05-21T09:14:54.491869Z",
     "iopub.status.idle": "2021-05-21T09:14:54.501132Z",
     "shell.execute_reply": "2021-05-21T09:14:54.500017Z",
     "shell.execute_reply.started": "2021-05-21T09:14:54.492224Z"
    }
   },
   "outputs": [
    {
     "name": "stdout",
     "output_type": "stream",
     "text": [
      "database security    897\n",
      "system designing     891\n",
      "web technologies     891\n",
      "hacking              867\n",
      "testing              852\n",
      "data science         842\n",
      "game development     831\n",
      "cloud computing      830\n",
      "Name: workshops, dtype: int64\n"
     ]
    }
   ],
   "source": [
    "print(df[\"workshops\"].value_counts())"
   ]
  },
  {
   "cell_type": "code",
   "execution_count": 19,
   "metadata": {
    "execution": {
     "iopub.execute_input": "2021-05-21T09:14:54.934947Z",
     "iopub.status.busy": "2021-05-21T09:14:54.934600Z",
     "iopub.status.idle": "2021-05-21T09:14:55.351557Z",
     "shell.execute_reply": "2021-05-21T09:14:55.350212Z",
     "shell.execute_reply.started": "2021-05-21T09:14:54.934917Z"
    }
   },
   "outputs": [
    {
     "data": {
      "image/png": "[encoded data removed]",
      "text/plain": [
       "<Figure size 864x432 with 1 Axes>"
      ]
     },
     "metadata": {},
     "output_type": "display_data"
    }
   ],
   "source": [
    "# Figure Size\n",
    "fig, ax = plt.subplots(figsize=(12,6))\n",
    "\n",
    "# Horizontal Bar Plot\n",
    "title_cnt=df.workshops.value_counts().sort_values(ascending=False).reset_index()\n",
    "mn= ax.barh(title_cnt.iloc[:,0], title_cnt.iloc[:,1],edgecolor='black', color=sns.color_palette('pastel',len(title_cnt)))\n",
    "\n",
    "\n",
    "\n",
    "# Remove axes splines\n",
    "for s in ['top','bottom','left','right']:\n",
    "    ax.spines[s].set_visible(False)\n",
    "\n",
    "# Remove x,y Ticks\n",
    "ax.xaxis.set_ticks_position('none')\n",
    "ax.yaxis.set_ticks_position('none')\n",
    "# Add padding between axes and labels\n",
    "ax.xaxis.set_tick_params(pad=5)\n",
    "ax.yaxis.set_tick_params(pad=10)\n",
    "\n",
    "\n",
    "# Show top values \n",
    "ax.invert_yaxis()\n",
    "\n",
    "# Add Plot Title\n",
    "ax.set_title('Workshops Attended',weight='bold',fontsize=20)\n",
    "ax.set_xlabel('Count', weight='bold')\n",
    "\n",
    "# Add annotation to bars\n",
    "for i in ax.patches:\n",
    "    ax.text(i.get_width()+1, i.get_y()+0.5, str(round((i.get_width()), 2)),\n",
    "             fontsize=10, fontweight='bold', color='grey')\n",
    "plt.yticks(weight='bold')\n",
    "plt.xticks(weight='bold')\n",
    "\n",
    "# Show Plot\n",
    "plt.show()"
   ]
  },
  {
   "cell_type": "code",
   "execution_count": 20,
   "metadata": {
    "execution": {
     "iopub.execute_input": "2021-05-21T09:14:56.103870Z",
     "iopub.status.busy": "2021-05-21T09:14:56.103480Z",
     "iopub.status.idle": "2021-05-21T09:14:56.115234Z",
     "shell.execute_reply": "2021-05-21T09:14:56.113820Z",
     "shell.execute_reply.started": "2021-05-21T09:14:56.103825Z"
    }
   },
   "outputs": [
    {
     "name": "stdout",
     "output_type": "stream",
     "text": [
      "Service Based                        725\n",
      "Web Services                         719\n",
      "BPA                                  711\n",
      "Testing and Maintainance Services    698\n",
      "Product based                        695\n",
      "Finance                              694\n",
      "Cloud Services                       692\n",
      "product development                  669\n",
      "Sales and Marketing                  658\n",
      "SAaS services                        640\n",
      "Name: Type of company want to settle in?, dtype: int64\n"
     ]
    }
   ],
   "source": [
    "print(df[\"Type of company want to settle in?\"].value_counts())"
   ]
  },
  {
   "cell_type": "code",
   "execution_count": 21,
   "metadata": {
    "execution": {
     "iopub.execute_input": "2021-05-21T09:14:56.462673Z",
     "iopub.status.busy": "2021-05-21T09:14:56.462316Z",
     "iopub.status.idle": "2021-05-21T09:14:56.756488Z",
     "shell.execute_reply": "2021-05-21T09:14:56.755426Z",
     "shell.execute_reply.started": "2021-05-21T09:14:56.462643Z"
    }
   },
   "outputs": [
    {
     "data": {
      "image/png": "[encoded data removed]",
      "text/plain": [
       "<Figure size 864x432 with 1 Axes>"
      ]
     },
     "metadata": {},
     "output_type": "display_data"
    }
   ],
   "source": [
    "# Figure Size\n",
    "fig, ax = plt.subplots(figsize=(12,6))\n",
    "\n",
    "# Horizontal Bar Plot\n",
    "title_cnt=df[\"Type of company want to settle in?\"].value_counts().sort_values(ascending=False).reset_index()\n",
    "mn= ax.barh(title_cnt.iloc[:,0], title_cnt.iloc[:,1],edgecolor='black', color=sns.color_palette('pastel',len(title_cnt)))\n",
    "\n",
    "\n",
    "\n",
    "# Remove axes splines\n",
    "for s in ['top','bottom','left','right']:\n",
    "    ax.spines[s].set_visible(False)\n",
    "\n",
    "# Remove x,y Ticks\n",
    "ax.xaxis.set_ticks_position('none')\n",
    "ax.yaxis.set_ticks_position('none')\n",
    "# Add padding between axes and labels\n",
    "ax.xaxis.set_tick_params(pad=5)\n",
    "ax.yaxis.set_tick_params(pad=10)\n",
    "\n",
    "\n",
    "# Show top values \n",
    "ax.invert_yaxis()\n",
    "\n",
    "# Add Plot Title\n",
    "ax.set_title('Type of Company you want to settle in?',weight='bold',fontsize=20)\n",
    "ax.set_xlabel('Count', weight='bold')\n",
    "\n",
    "# Add annotation to bars\n",
    "for i in ax.patches:\n",
    "    ax.text(i.get_width()+1, i.get_y()+0.5, str(round((i.get_width()), 2)),\n",
    "             fontsize=10, fontweight='bold', color='grey')\n",
    "plt.yticks(weight='bold')\n",
    "plt.xticks(weight='bold')\n",
    "\n",
    "# Show Plot\n",
    "plt.show()"
   ]
  },
  {
   "cell_type": "code",
   "execution_count": 22,
   "metadata": {
    "execution": {
     "iopub.execute_input": "2021-05-21T09:14:57.704002Z",
     "iopub.status.busy": "2021-05-21T09:14:57.703617Z",
     "iopub.status.idle": "2021-05-21T09:14:57.714005Z",
     "shell.execute_reply": "2021-05-21T09:14:57.712713Z",
     "shell.execute_reply.started": "2021-05-21T09:14:57.703967Z"
    }
   },
   "outputs": [
    {
     "name": "stdout",
     "output_type": "stream",
     "text": [
      "system developer            1178\n",
      "security                    1177\n",
      "Business process analyst    1154\n",
      "developer                   1145\n",
      "testing                     1128\n",
      "cloud computing             1119\n",
      "Name: interested career area , dtype: int64\n"
     ]
    }
   ],
   "source": [
    "print(df[\"interested career area \"].value_counts())"
   ]
  },
  {
   "cell_type": "code",
   "execution_count": 23,
   "metadata": {
    "execution": {
     "iopub.execute_input": "2021-05-21T09:14:58.064643Z",
     "iopub.status.busy": "2021-05-21T09:14:58.064306Z",
     "iopub.status.idle": "2021-05-21T09:14:58.293301Z",
     "shell.execute_reply": "2021-05-21T09:14:58.292464Z",
     "shell.execute_reply.started": "2021-05-21T09:14:58.064614Z"
    }
   },
   "outputs": [
    {
     "data": {
      "image/png": "[encoded data removed]",
      "text/plain": [
       "<Figure size 720x288 with 1 Axes>"
      ]
     },
     "metadata": {},
     "output_type": "display_data"
    }
   ],
   "source": [
    "# Figure Size\n",
    "fig, ax = plt.subplots(figsize=(10,4)) #width,height\n",
    "\n",
    "# Horizontal Bar Plot\n",
    "title_cnt=df[\"interested career area \"].value_counts().sort_values(ascending=False).reset_index()\n",
    "mn= ax.barh(title_cnt.iloc[:,0], title_cnt.iloc[:,1],edgecolor='black', color=sns.color_palette('pastel',len(title_cnt)))\n",
    "\n",
    "\n",
    "\n",
    "# Remove axes splines\n",
    "for s in ['top','bottom','left','right']:\n",
    "    ax.spines[s].set_visible(False)\n",
    "\n",
    "# Remove x,y Ticks\n",
    "ax.xaxis.set_ticks_position('none')\n",
    "ax.yaxis.set_ticks_position('none')\n",
    "# Add padding between axes and labels\n",
    "ax.xaxis.set_tick_params(pad=5)\n",
    "ax.yaxis.set_tick_params(pad=10)\n",
    "\n",
    "\n",
    "# Show top values \n",
    "ax.invert_yaxis()\n",
    "\n",
    "# Add Plot Title\n",
    "ax.set_title('Interested Career Area ',weight='bold',fontsize=20)\n",
    "ax.set_xlabel('Count', weight='bold')\n",
    "\n",
    "# Add annotation to bars\n",
    "for i in ax.patches:\n",
    "    ax.text(i.get_width()+1, i.get_y()+0.5, str(round((i.get_width()), 2)),\n",
    "             fontsize=10, fontweight='bold', color='grey')\n",
    "plt.yticks(weight='bold')\n",
    "plt.xticks(weight='bold')\n",
    "\n",
    "# Show Plot\n",
    "plt.show()"
   ]
  },
  {
   "cell_type": "markdown",
   "metadata": {},
   "source": [
    "## **5. Feature Engineering** "
   ]
  },
  {
   "cell_type": "markdown",
   "metadata": {},
   "source": [
    "### (1) Binary Encoding for Categorical Variables"
   ]
  },
  {
   "cell_type": "code",
   "execution_count": 24,
   "metadata": {
    "execution": {
     "iopub.execute_input": "2021-05-21T09:15:00.059997Z",
     "iopub.status.busy": "2021-05-21T09:15:00.059636Z",
     "iopub.status.idle": "2021-05-21T09:15:00.101071Z",
     "shell.execute_reply": "2021-05-21T09:15:00.100277Z",
     "shell.execute_reply.started": "2021-05-21T09:15:00.059968Z"
    }
   },
   "outputs": [],
   "source": [
    "cols = df[[\"self-learning capability?\", \"Extra-courses did\",\"Taken inputs from seniors or elders\", \"worked in teams ever?\", \"Introvert\"]]\n",
    "for i in cols:\n",
    "    cleanup_nums = {i: {\"yes\": 1, \"no\": 0}}\n",
    "    df = df.replace(cleanup_nums)"
   ]
  },
  {
   "cell_type": "code",
   "execution_count": 25,
   "metadata": {
    "execution": {
     "iopub.execute_input": "2021-05-21T09:15:00.401318Z",
     "iopub.status.busy": "2021-05-21T09:15:00.400761Z",
     "iopub.status.idle": "2021-05-21T09:15:00.409457Z",
     "shell.execute_reply": "2021-05-21T09:15:00.408574Z",
     "shell.execute_reply.started": "2021-05-21T09:15:00.401280Z"
    }
   },
   "outputs": [
    {
     "name": "stdout",
     "output_type": "stream",
     "text": [
      "\n",
      "\n",
      "List of Categorical features: \n",
      " ['certifications', 'workshops', 'reading and writing skills', 'memory capability score', 'Interested subjects', 'interested career area ', 'Type of company want to settle in?', 'Interested Type of Books', 'Management or Technical', 'hard/smart worker', 'Suggested Job Role']\n"
     ]
    }
   ],
   "source": [
    "print(\"\\n\\nList of Categorical features: \\n\" , df.select_dtypes(include=['object']).columns.tolist())"
   ]
  },
  {
   "cell_type": "markdown",
   "metadata": {},
   "source": [
    "### (2) Number Encoding for Categorical "
   ]
  },
  {
   "cell_type": "code",
   "execution_count": 26,
   "metadata": {
    "execution": {
     "iopub.execute_input": "2021-05-21T09:15:02.630142Z",
     "iopub.status.busy": "2021-05-21T09:15:02.629617Z",
     "iopub.status.idle": "2021-05-21T09:15:02.680281Z",
     "shell.execute_reply": "2021-05-21T09:15:02.679472Z",
     "shell.execute_reply.started": "2021-05-21T09:15:02.630109Z"
    }
   },
   "outputs": [
    {
     "name": "stdout",
     "output_type": "stream",
     "text": [
      "\n",
      "\n",
      "List of Categorical features: \n",
      " ['Management or Technical', 'hard/smart worker', 'Suggested Job Role']\n"
     ]
    }
   ],
   "source": [
    "mycol = df[[\"reading and writing skills\", \"memory capability score\"]]\n",
    "for i in mycol:\n",
    "    cleanup_nums = {i: {\"poor\": 0, \"medium\": 1, \"excellent\": 2}}\n",
    "    df = df.replace(cleanup_nums)\n",
    "\n",
    "category_cols = df[['certifications', 'workshops', 'Interested subjects', 'interested career area ', 'Type of company want to settle in?', \n",
    "                    'Interested Type of Books']]\n",
    "for i in category_cols:\n",
    "    df[i] = df[i].astype('category')\n",
    "    df[i + \"_code\"] = df[i].cat.codes\n",
    "\n",
    "print(\"\\n\\nList of Categorical features: \\n\" , df.select_dtypes(include=['object']).columns.tolist())"
   ]
  },
  {
   "cell_type": "markdown",
   "metadata": {},
   "source": [
    "### (3) Dummy Variable Encoding"
   ]
  },
  {
   "cell_type": "code",
   "execution_count": 27,
   "metadata": {
    "execution": {
     "iopub.execute_input": "2021-05-21T09:15:04.145103Z",
     "iopub.status.busy": "2021-05-21T09:15:04.144613Z",
     "iopub.status.idle": "2021-05-21T09:15:04.152520Z",
     "shell.execute_reply": "2021-05-21T09:15:04.151594Z",
     "shell.execute_reply.started": "2021-05-21T09:15:04.145064Z"
    }
   },
   "outputs": [
    {
     "name": "stdout",
     "output_type": "stream",
     "text": [
      "['Management' 'Technical']\n",
      "['smart worker' 'hard worker']\n"
     ]
    }
   ],
   "source": [
    "print(df['Management or Technical'].unique())\n",
    "print(df['hard/smart worker'].unique())"
   ]
  },
  {
   "cell_type": "code",
   "execution_count": 28,
   "metadata": {
    "execution": {
     "iopub.execute_input": "2021-05-21T09:15:05.552686Z",
     "iopub.status.busy": "2021-05-21T09:15:05.552121Z",
     "iopub.status.idle": "2021-05-21T09:15:05.585075Z",
     "shell.execute_reply": "2021-05-21T09:15:05.584283Z",
     "shell.execute_reply.started": "2021-05-21T09:15:05.552609Z"
    }
   },
   "outputs": [
    {
     "data": {
      "text/html": [
       "<div>\n",
       "<style scoped>\n",
       "    .dataframe tbody tr th:only-of-type {\n",
       "        vertical-align: middle;\n",
       "    }\n",
       "\n",
       "    .dataframe tbody tr th {\n",
       "        vertical-align: top;\n",
       "    }\n",
       "\n",
       "    .dataframe thead th {\n",
       "        text-align: right;\n",
       "    }\n",
       "</style>\n",
       "<table border=\"1\" class=\"dataframe\">\n",
       "  <thead>\n",
       "    <tr style=\"text-align: right;\">\n",
       "      <th></th>\n",
       "      <th>Logical quotient rating</th>\n",
       "      <th>hackathons</th>\n",
       "      <th>coding skills rating</th>\n",
       "      <th>public speaking points</th>\n",
       "      <th>self-learning capability?</th>\n",
       "      <th>Extra-courses did</th>\n",
       "      <th>certifications</th>\n",
       "      <th>workshops</th>\n",
       "      <th>reading and writing skills</th>\n",
       "      <th>memory capability score</th>\n",
       "      <th>...</th>\n",
       "      <th>certifications_code</th>\n",
       "      <th>workshops_code</th>\n",
       "      <th>Interested subjects_code</th>\n",
       "      <th>interested career area _code</th>\n",
       "      <th>Type of company want to settle in?_code</th>\n",
       "      <th>Interested Type of Books_code</th>\n",
       "      <th>A_Management</th>\n",
       "      <th>A_Technical</th>\n",
       "      <th>B_hard worker</th>\n",
       "      <th>B_smart worker</th>\n",
       "    </tr>\n",
       "  </thead>\n",
       "  <tbody>\n",
       "    <tr>\n",
       "      <th>0</th>\n",
       "      <td>5</td>\n",
       "      <td>0</td>\n",
       "      <td>6</td>\n",
       "      <td>2</td>\n",
       "      <td>1</td>\n",
       "      <td>0</td>\n",
       "      <td>information security</td>\n",
       "      <td>testing</td>\n",
       "      <td>0</td>\n",
       "      <td>0</td>\n",
       "      <td>...</td>\n",
       "      <td>4</td>\n",
       "      <td>6</td>\n",
       "      <td>9</td>\n",
       "      <td>5</td>\n",
       "      <td>0</td>\n",
       "      <td>28</td>\n",
       "      <td>1</td>\n",
       "      <td>0</td>\n",
       "      <td>0</td>\n",
       "      <td>1</td>\n",
       "    </tr>\n",
       "    <tr>\n",
       "      <th>1</th>\n",
       "      <td>7</td>\n",
       "      <td>6</td>\n",
       "      <td>4</td>\n",
       "      <td>3</td>\n",
       "      <td>0</td>\n",
       "      <td>1</td>\n",
       "      <td>shell programming</td>\n",
       "      <td>testing</td>\n",
       "      <td>2</td>\n",
       "      <td>1</td>\n",
       "      <td>...</td>\n",
       "      <td>8</td>\n",
       "      <td>6</td>\n",
       "      <td>2</td>\n",
       "      <td>4</td>\n",
       "      <td>1</td>\n",
       "      <td>3</td>\n",
       "      <td>0</td>\n",
       "      <td>1</td>\n",
       "      <td>1</td>\n",
       "      <td>0</td>\n",
       "    </tr>\n",
       "    <tr>\n",
       "      <th>2</th>\n",
       "      <td>2</td>\n",
       "      <td>3</td>\n",
       "      <td>9</td>\n",
       "      <td>1</td>\n",
       "      <td>0</td>\n",
       "      <td>1</td>\n",
       "      <td>information security</td>\n",
       "      <td>testing</td>\n",
       "      <td>2</td>\n",
       "      <td>0</td>\n",
       "      <td>...</td>\n",
       "      <td>4</td>\n",
       "      <td>6</td>\n",
       "      <td>5</td>\n",
       "      <td>0</td>\n",
       "      <td>9</td>\n",
       "      <td>29</td>\n",
       "      <td>0</td>\n",
       "      <td>1</td>\n",
       "      <td>0</td>\n",
       "      <td>1</td>\n",
       "    </tr>\n",
       "    <tr>\n",
       "      <th>3</th>\n",
       "      <td>2</td>\n",
       "      <td>6</td>\n",
       "      <td>3</td>\n",
       "      <td>5</td>\n",
       "      <td>0</td>\n",
       "      <td>1</td>\n",
       "      <td>r programming</td>\n",
       "      <td>database security</td>\n",
       "      <td>2</td>\n",
       "      <td>0</td>\n",
       "      <td>...</td>\n",
       "      <td>7</td>\n",
       "      <td>2</td>\n",
       "      <td>7</td>\n",
       "      <td>5</td>\n",
       "      <td>7</td>\n",
       "      <td>13</td>\n",
       "      <td>1</td>\n",
       "      <td>0</td>\n",
       "      <td>0</td>\n",
       "      <td>1</td>\n",
       "    </tr>\n",
       "    <tr>\n",
       "      <th>4</th>\n",
       "      <td>2</td>\n",
       "      <td>0</td>\n",
       "      <td>3</td>\n",
       "      <td>4</td>\n",
       "      <td>1</td>\n",
       "      <td>0</td>\n",
       "      <td>distro making</td>\n",
       "      <td>game development</td>\n",
       "      <td>2</td>\n",
       "      <td>1</td>\n",
       "      <td>...</td>\n",
       "      <td>1</td>\n",
       "      <td>3</td>\n",
       "      <td>3</td>\n",
       "      <td>4</td>\n",
       "      <td>0</td>\n",
       "      <td>14</td>\n",
       "      <td>0</td>\n",
       "      <td>1</td>\n",
       "      <td>1</td>\n",
       "      <td>0</td>\n",
       "    </tr>\n",
       "  </tbody>\n",
       "</table>\n",
       "<p>5 rows × 28 columns</p>\n",
       "</div>"
      ],
      "text/plain": [
       "   Logical quotient rating  hackathons  coding skills rating  \\\n",
       "0                        5           0                     6   \n",
       "1                        7           6                     4   \n",
       "2                        2           3                     9   \n",
       "3                        2           6                     3   \n",
       "4                        2           0                     3   \n",
       "\n",
       "   public speaking points  self-learning capability?  Extra-courses did  \\\n",
       "0                       2                          1                  0   \n",
       "1                       3                          0                  1   \n",
       "2                       1                          0                  1   \n",
       "3                       5                          0                  1   \n",
       "4                       4                          1                  0   \n",
       "\n",
       "         certifications          workshops  reading and writing skills  \\\n",
       "0  information security            testing                           0   \n",
       "1     shell programming            testing                           2   \n",
       "2  information security            testing                           2   \n",
       "3         r programming  database security                           2   \n",
       "4         distro making   game development                           2   \n",
       "\n",
       "   memory capability score  ... certifications_code workshops_code  \\\n",
       "0                        0  ...                   4              6   \n",
       "1                        1  ...                   8              6   \n",
       "2                        0  ...                   4              6   \n",
       "3                        0  ...                   7              2   \n",
       "4                        1  ...                   1              3   \n",
       "\n",
       "  Interested subjects_code  interested career area _code  \\\n",
       "0                        9                             5   \n",
       "1                        2                             4   \n",
       "2                        5                             0   \n",
       "3                        7                             5   \n",
       "4                        3                             4   \n",
       "\n",
       "  Type of company want to settle in?_code  Interested Type of Books_code  \\\n",
       "0                                       0                             28   \n",
       "1                                       1                              3   \n",
       "2                                       9                             29   \n",
       "3                                       7                             13   \n",
       "4                                       0                             14   \n",
       "\n",
       "   A_Management A_Technical  B_hard worker  B_smart worker  \n",
       "0             1           0              0               1  \n",
       "1             0           1              1               0  \n",
       "2             0           1              0               1  \n",
       "3             1           0              0               1  \n",
       "4             0           1              1               0  \n",
       "\n",
       "[5 rows x 28 columns]"
      ]
     },
     "execution_count": 28,
     "metadata": {},
     "output_type": "execute_result"
    }
   ],
   "source": [
    "df = pd.get_dummies(df, columns=[\"Management or Technical\", \"hard/smart worker\"], prefix=[\"A\", \"B\"])\n",
    "df.head()"
   ]
  },
  {
   "cell_type": "code",
   "execution_count": 29,
   "metadata": {
    "execution": {
     "iopub.execute_input": "2021-05-21T09:15:06.492745Z",
     "iopub.status.busy": "2021-05-21T09:15:06.492131Z",
     "iopub.status.idle": "2021-05-21T09:15:06.506687Z",
     "shell.execute_reply": "2021-05-21T09:15:06.505612Z",
     "shell.execute_reply.started": "2021-05-21T09:15:06.492706Z"
    }
   },
   "outputs": [
    {
     "name": "stdout",
     "output_type": "stream",
     "text": [
      "List of Numerical features: \n",
      " ['Logical quotient rating', 'hackathons', 'coding skills rating', 'public speaking points', 'self-learning capability?', 'Extra-courses did', 'reading and writing skills', 'memory capability score', 'Taken inputs from seniors or elders', 'worked in teams ever?', 'Introvert', 'certifications_code', 'workshops_code', 'Interested subjects_code', 'interested career area _code', 'Type of company want to settle in?_code', 'Interested Type of Books_code', 'A_Management', 'A_Technical', 'B_hard worker', 'B_smart worker']\n"
     ]
    }
   ],
   "source": [
    "print(\"List of Numerical features: \\n\" , df.select_dtypes(include=np.number).columns.tolist())"
   ]
  },
  {
   "cell_type": "markdown",
   "metadata": {},
   "source": [
    "## **6. Building Machine Learning Model** 🤖"
   ]
  },
  {
   "cell_type": "code",
   "execution_count": 30,
   "metadata": {
    "execution": {
     "iopub.execute_input": "2021-05-21T09:15:08.496869Z",
     "iopub.status.busy": "2021-05-21T09:15:08.496508Z",
     "iopub.status.idle": "2021-05-21T09:15:08.512249Z",
     "shell.execute_reply": "2021-05-21T09:15:08.510942Z",
     "shell.execute_reply.started": "2021-05-21T09:15:08.496837Z"
    }
   },
   "outputs": [],
   "source": [
    "feed = df[['Logical quotient rating', 'coding skills rating', 'hackathons', 'public speaking points', 'self-learning capability?','Extra-courses did', \n",
    "           'Taken inputs from seniors or elders', 'worked in teams ever?', 'Introvert', 'reading and writing skills', 'memory capability score',  \n",
    "           'B_hard worker', 'B_smart worker', 'A_Management', 'A_Technical', 'Interested subjects_code', 'Interested Type of Books_code', 'certifications_code', \n",
    "           'workshops_code', 'Type of company want to settle in?_code',  'interested career area _code',\n",
    "             'Suggested Job Role']]\n",
    "\n",
    "# Taking all independent variable columns\n",
    "df_train_x = feed.drop('Suggested Job Role',axis = 1)\n",
    "\n",
    "# Target variable column\n",
    "df_train_y = feed['Suggested Job Role']\n",
    "\n",
    "x_train, x_test, y_train, y_test = train_test_split(df_train_x, df_train_y, test_size=0.20, random_state=42)\n"
   ]
  },
  {
   "cell_type": "markdown",
   "metadata": {},
   "source": [
    "### **(1) Decision Tree Classifier**"
   ]
  },
  {
   "cell_type": "code",
   "execution_count": 31,
   "metadata": {
    "execution": {
     "iopub.execute_input": "2021-05-21T09:15:13.994959Z",
     "iopub.status.busy": "2021-05-21T09:15:13.994602Z",
     "iopub.status.idle": "2021-05-21T09:15:14.071007Z",
     "shell.execute_reply": "2021-05-21T09:15:14.069396Z",
     "shell.execute_reply.started": "2021-05-21T09:15:13.994928Z"
    }
   },
   "outputs": [
    {
     "name": "stdout",
     "output_type": "stream",
     "text": [
      "confusion matrics= [[11 11 11  8 13 15 12 10  7 10 14 10]\n",
      " [10  4  6  8  5  7 11 13 17  7  8  9]\n",
      " [13  9 11  8 12 10 11 12  5 10  8 14]\n",
      " [ 5 10 12  7  5  8  6 10  4  7 14 12]\n",
      " [ 8 11  9 12 14 10  6  8  7  9 16 11]\n",
      " [12 13  8  9 13 12  4  7 11 10 11  3]\n",
      " [ 8 15 12  9  9  7 15  7  7 11 11  5]\n",
      " [10  9  7  3 14 11 18 11 15  8  6  6]\n",
      " [11  7 10 13  7 12 12  8  7  6  7 14]\n",
      " [ 9 10 10  8 18  8  7  6  9  9 11  6]\n",
      " [ 7 14  5 13  9 10 11  9  9 10 12 10]\n",
      " [ 9 10  9 15 10  9  7  5 14  7  6  8]]\n",
      "  \n",
      "accuracy= 87.6176683562636\n"
     ]
    }
   ],
   "source": [
    "dtree = DecisionTreeClassifier(random_state=1)\n",
    "dtree = dtree.fit(x_train, y_train)\n",
    "\n",
    "y_pred = dtree.predict(x_test)\n",
    "cm = confusion_matrix(y_test,y_pred)\n",
    "accuracy = accuracy_score(y_test,y_pred)\n",
    "print(\"confusion matrics=\",cm)\n",
    "print(\"  \")\n",
    "print(\"accuracy=\",(accuracy*10)*100)"
   ]
  },
  {
   "cell_type": "markdown",
   "metadata": {},
   "source": [
    "### **Predicting class for one instance**"
   ]
  },
  {
   "cell_type": "code",
   "execution_count": 32,
   "metadata": {
    "execution": {
     "iopub.execute_input": "2021-05-21T09:15:16.340785Z",
     "iopub.status.busy": "2021-05-21T09:15:16.340422Z",
     "iopub.status.idle": "2021-05-21T09:15:16.349794Z",
     "shell.execute_reply": "2021-05-21T09:15:16.348558Z",
     "shell.execute_reply.started": "2021-05-21T09:15:16.340753Z"
    }
   },
   "outputs": [
    {
     "name": "stdout",
     "output_type": "stream",
     "text": [
      "['Technical Support']\n",
      "Probabilities of all classes:  [[0. 0. 0. 0. 0. 0. 0. 0. 0. 1. 0. 0.]]\n",
      "Probability of Predicted class :  1.0\n"
     ]
    },
    {
     "name": "stderr",
     "output_type": "stream",
     "text": [
      "D:\\Anaconda\\lib\\site-packages\\sklearn\\base.py:450: UserWarning: X does not have valid feature names, but DecisionTreeClassifier was fitted with feature names\n",
      "  warnings.warn(\n",
      "D:\\Anaconda\\lib\\site-packages\\sklearn\\base.py:450: UserWarning: X does not have valid feature names, but DecisionTreeClassifier was fitted with feature names\n",
      "  warnings.warn(\n"
     ]
    }
   ],
   "source": [
    "userdata = [['7','6','6','8','3','5','4', '4', '7', '3', '3', '6','8', \n",
    "                    '7','5','7','4','5','6','8','8']]\n",
    "ynewclass = dtree.predict(userdata)\n",
    "ynew = dtree.predict_proba(userdata)\n",
    "print(ynewclass)\n",
    "print(\"Probabilities of all classes: \", ynew)\n",
    "print(\"Probability of Predicted class : \", np.max(ynew))"
   ]
  },
  {
   "cell_type": "markdown",
   "metadata": {},
   "source": [
    "### **(2) Supprt Vector Machine Classifier**"
   ]
  },
  {
   "cell_type": "code",
   "execution_count": 33,
   "metadata": {
    "execution": {
     "iopub.execute_input": "2021-05-21T09:15:17.589858Z",
     "iopub.status.busy": "2021-05-21T09:15:17.589485Z",
     "iopub.status.idle": "2021-05-21T09:15:22.119128Z",
     "shell.execute_reply": "2021-05-21T09:15:22.117845Z",
     "shell.execute_reply.started": "2021-05-21T09:15:17.589826Z"
    }
   },
   "outputs": [
    {
     "name": "stdout",
     "output_type": "stream",
     "text": [
      "confusion matrics= [[ 1  5  0  6 41 20 18  6 15 12  6  2]\n",
      " [ 1  7  0  3 44  5 15 13  3  9  3  2]\n",
      " [ 0  5  2  5 44 14 19  9  6 10  6  3]\n",
      " [ 2  7  1  3 41 13  9  6  3 10  2  3]\n",
      " [ 2  7  3  4 40 17 18  9  4 13  1  3]\n",
      " [ 1 10  0  4 44 14 12 13  4  8  2  1]\n",
      " [ 1  6  3  2 40  7 13 17 12  8  4  3]\n",
      " [ 0  7  1  6 37 12 16 13 11 11  4  0]\n",
      " [ 0  9  0  3 37 13 14 13  6 12  2  5]\n",
      " [ 0  8  0  3 43 13 15  8  5 11  3  2]\n",
      " [ 1  8  1  3 40 16 18 12  4 10  4  2]\n",
      " [ 2  9  6  2 33 13 10 12 10  9  2  1]]\n",
      "  \n",
      "accuracy= 83.27299058653149\n"
     ]
    }
   ],
   "source": [
    "svm = svm.SVC()\n",
    "svm.fit(x_train, y_train)\n",
    "svm_y_pred = svm.predict(x_test)\n",
    "svm_cm = confusion_matrix(y_test,svm_y_pred)\n",
    "svm_accuracy = accuracy_score(y_test,svm_y_pred)\n",
    "print(\"confusion matrics=\",svm_cm)\n",
    "print(\"  \")\n",
    "print(\"accuracy=\",(svm_accuracy*10)*100)"
   ]
  },
  {
   "cell_type": "code",
   "execution_count": 34,
   "metadata": {
    "execution": {
     "iopub.execute_input": "2021-05-21T09:15:22.122725Z",
     "iopub.status.busy": "2021-05-21T09:15:22.122380Z",
     "iopub.status.idle": "2021-05-21T09:15:22.137421Z",
     "shell.execute_reply": "2021-05-21T09:15:22.135363Z",
     "shell.execute_reply.started": "2021-05-21T09:15:22.122694Z"
    }
   },
   "outputs": [
    {
     "name": "stdout",
     "output_type": "stream",
     "text": [
      "['Software Engineer']\n",
      "Probabilities of all classes:  [[ 0.72317165  8.25769355 -0.2843185   7.17416306  3.83458056  4.87344345\n",
      "  10.27976749  9.2644453   1.73122697  7.04310678 10.27669569  2.77294512]]\n",
      "Probability of Predicted class :  10.279767490035844\n"
     ]
    },
    {
     "name": "stderr",
     "output_type": "stream",
     "text": [
      "D:\\Anaconda\\lib\\site-packages\\sklearn\\base.py:450: UserWarning: X does not have valid feature names, but SVC was fitted with feature names\n",
      "  warnings.warn(\n",
      "D:\\Anaconda\\lib\\site-packages\\sklearn\\base.py:450: UserWarning: X does not have valid feature names, but SVC was fitted with feature names\n",
      "  warnings.warn(\n"
     ]
    }
   ],
   "source": [
    "ynewclass = svm.predict(userdata)\n",
    "ynew = svm.decision_function(userdata)\n",
    "print(ynewclass)\n",
    "print(\"Probabilities of all classes: \", ynew)\n",
    "print(\"Probability of Predicted class : \", np.max(ynew))"
   ]
  },
  {
   "cell_type": "markdown",
   "metadata": {},
   "source": [
    "### **(3) Random Forest Classifier**"
   ]
  },
  {
   "cell_type": "code",
   "execution_count": 35,
   "metadata": {
    "execution": {
     "iopub.execute_input": "2021-05-21T09:15:22.140049Z",
     "iopub.status.busy": "2021-05-21T09:15:22.139536Z",
     "iopub.status.idle": "2021-05-21T09:15:23.309802Z",
     "shell.execute_reply": "2021-05-21T09:15:23.308617Z",
     "shell.execute_reply.started": "2021-05-21T09:15:22.140011Z"
    }
   },
   "outputs": [
    {
     "name": "stdout",
     "output_type": "stream",
     "text": [
      "confusion matrics= [[ 9 13 16  3 10 14 13 13 12  9 12  8]\n",
      " [ 8 13  9  7 19  8  5  7  4 10  8  7]\n",
      " [11 10  6 12 15  9 12 12 11  8  8  9]\n",
      " [ 9  8  5 13 25  4  6  6  7  6  4  7]\n",
      " [11 13 12  8 17  9  8  4 10  8 12  9]\n",
      " [ 6  8 12  6 18  6  4 12  9  7 14 11]\n",
      " [ 8  8 10 10 21  6 13  9 11  7  7  6]\n",
      " [11  8  9  8 21 11 13  8  8  7  6  8]\n",
      " [ 7 12 10  5 16 18 12  8 10  5  5  6]\n",
      " [ 6 10 14  6  9 12 12  9  9 10  5  9]\n",
      " [10 12 10  9 12  9 20  7  6 11  9  4]\n",
      " [10  9 11  8 14 11  9  8  7  7  8  7]]\n",
      "  \n",
      "accuracy= 87.6176683562636\n"
     ]
    }
   ],
   "source": [
    "rf = RandomForestClassifier(random_state = 10)\n",
    "rf.fit(x_train, y_train)\n",
    "rfc_y_pred = rf.predict(x_test)\n",
    "rfc_cm = confusion_matrix(y_test,rfc_y_pred)\n",
    "rfc_accuracy = accuracy_score(y_test,rfc_y_pred)\n",
    "print(\"confusion matrics=\",rfc_cm)\n",
    "print(\"  \")\n",
    "print(\"accuracy=\",(rfc_accuracy*10)*100)"
   ]
  },
  {
   "cell_type": "code",
   "execution_count": 36,
   "metadata": {},
   "outputs": [
    {
     "name": "stdout",
     "output_type": "stream",
     "text": [
      "['Web Developer']\n",
      "Probabilities of all classes:  [[0.02 0.12 0.09 0.03 0.12 0.07 0.12 0.06 0.07 0.1  0.07 0.13]]\n",
      "Probability of Predicted class :  0.13\n"
     ]
    },
    {
     "name": "stderr",
     "output_type": "stream",
     "text": [
      "D:\\Anaconda\\lib\\site-packages\\sklearn\\base.py:450: UserWarning: X does not have valid feature names, but RandomForestClassifier was fitted with feature names\n",
      "  warnings.warn(\n",
      "D:\\Anaconda\\lib\\site-packages\\sklearn\\base.py:450: UserWarning: X does not have valid feature names, but RandomForestClassifier was fitted with feature names\n",
      "  warnings.warn(\n"
     ]
    }
   ],
   "source": [
    "ynewclass = rf.predict(userdata)\n",
    "ynew = rf.predict_proba(userdata)\n",
    "print(ynewclass)\n",
    "print(\"Probabilities of all classes: \", ynew)\n",
    "print(\"Probability of Predicted class : \", np.max(ynew))"
   ]
  },
  {
   "cell_type": "markdown",
   "metadata": {},
   "source": [
    "### **Prediction for one instance**"
   ]
  },
  {
   "cell_type": "code",
   "execution_count": 37,
   "metadata": {
    "execution": {
     "iopub.execute_input": "2021-05-21T09:15:25.598336Z",
     "iopub.status.busy": "2021-05-21T09:15:25.597837Z",
     "iopub.status.idle": "2021-05-21T09:15:25.635455Z",
     "shell.execute_reply": "2021-05-21T09:15:25.634610Z",
     "shell.execute_reply.started": "2021-05-21T09:15:25.598208Z"
    }
   },
   "outputs": [
    {
     "name": "stdout",
     "output_type": "stream",
     "text": [
      "['Technical Support']\n",
      "Probabilities of all classes:  [[0. 0. 0. 0. 0. 0. 0. 0. 0. 1. 0. 0.]]\n",
      "Probability of Predicted class :  1.0\n"
     ]
    },
    {
     "name": "stderr",
     "output_type": "stream",
     "text": [
      "D:\\Anaconda\\lib\\site-packages\\sklearn\\base.py:450: UserWarning: X does not have valid feature names, but DecisionTreeClassifier was fitted with feature names\n",
      "  warnings.warn(\n",
      "D:\\Anaconda\\lib\\site-packages\\sklearn\\base.py:450: UserWarning: X does not have valid feature names, but DecisionTreeClassifier was fitted with feature names\n",
      "  warnings.warn(\n"
     ]
    }
   ],
   "source": [
    "userdata = [['7','6','6','8','3','5','4', '4', '7', '3', '3', '6','8', \n",
    "                    '7','5','7','4','5','6','8','8']]\n",
    "ynewclass = dtree.predict(userdata)\n",
    "ynew = dtree.predict_proba(userdata)\n",
    "print(ynewclass)\n",
    "print(\"Probabilities of all classes: \", ynew)\n",
    "print(\"Probability of Predicted class : \", np.max(ynew))"
   ]
  },
  {
   "cell_type": "code",
   "execution_count": null,
   "metadata": {},
   "outputs": [],
   "source": []
  }
 ],
 "metadata": {
  "kernelspec": {
   "display_name": "Python 3 (ipykernel)",
   "language": "python",
   "name": "python3"
  },
  "language_info": {
   "codemirror_mode": {
    "name": "ipython",
    "version": 3
   },
   "file_extension": ".py",
   "mimetype": "text/x-python",
   "name": "python",
   "nbconvert_exporter": "python",
   "pygments_lexer": "ipython3",
   "version": "3.9.12"
  }
 },
 "nbformat": 4,
 "nbformat_minor": 4
}
