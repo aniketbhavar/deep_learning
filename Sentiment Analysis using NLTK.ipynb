{
 "cells": [
  {
   "cell_type": "markdown",
   "id": "21377d1e",
   "metadata": {},
   "source": [
    "# Sentiment Analysis using NLTK"
   ]
  },
  {
   "cell_type": "markdown",
   "id": "ea4f3545",
   "metadata": {},
   "source": [
    "  This project demonstrates sentiment analysis on text data using the Natural Language Toolkit (NLTK) library in Python. Sentiment analysis is the process of determining the sentiment or emotional tone of a given text, which can be positive, negative, or neutral."
   ]
  },
  {
   "cell_type": "code",
   "execution_count": 8,
   "id": "52674594",
   "metadata": {},
   "outputs": [
    {
     "name": "stdout",
     "output_type": "stream",
     "text": [
      "Sentiment Score: -0.5661\n"
     ]
    }
   ],
   "source": [
    "import nltk\n",
    "from nltk.sentiment import SentimentIntensityAnalyzer\n",
    "\n",
    "#Download the required NLTK resources\n",
    "#nltk.download('vader_lexicon')\n",
    "\n",
    "# Initialize the sentiment analyzer\n",
    "sia = SentimentIntensityAnalyzer()\n",
    "\n",
    "def get_sentiment(text):\n",
    "    \"\"\"\n",
    "    Perform sentiment analysis on the given text.\n",
    "    Returns a sentiment score between -1 and 1.\n",
    "    \"\"\"\n",
    "    sentiment = sia.polarity_scores(text)\n",
    "    return sentiment['compound']\n",
    "\n",
    "# Sample text for sentiment analysis\n",
    "text = \"I don't love this project! .\"\n",
    "\n",
    "# Perform sentiment analysis\n",
    "sentiment_score = get_sentiment(text)\n",
    "\n",
    "# Display the sentiment score\n",
    "print(\"Sentiment Score:\", sentiment_score)"
   ]
  },
  {
   "cell_type": "code",
   "execution_count": null,
   "id": "9d4b508b",
   "metadata": {},
   "outputs": [],
   "source": [
    " "
   ]
  }
 ],
 "metadata": {
  "kernelspec": {
   "display_name": "Python 3 (ipykernel)",
   "language": "python",
   "name": "python3"
  },
  "language_info": {
   "codemirror_mode": {
    "name": "ipython",
    "version": 3
   },
   "file_extension": ".py",
   "mimetype": "text/x-python",
   "name": "python",
   "nbconvert_exporter": "python",
   "pygments_lexer": "ipython3",
   "version": "3.9.7"
  }
 },
 "nbformat": 4,
 "nbformat_minor": 5
}
