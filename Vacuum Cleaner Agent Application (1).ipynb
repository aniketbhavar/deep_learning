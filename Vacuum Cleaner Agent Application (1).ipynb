{
 "cells": [
  {
   "cell_type": "code",
   "execution_count": 9,
   "id": "03c1574d",
   "metadata": {},
   "outputs": [
    {
     "name": "stdout",
     "output_type": "stream",
     "text": [
      "[0, 0, 0, 0, 0, 0, 0, 0]\n"
     ]
    }
   ],
   "source": [
    "import random\n",
    "\n",
    "class VacuumCleanerAgent:\n",
    "    def __init__(self, location, environment):\n",
    "        self.location = location\n",
    "        self.environment = environment\n",
    "        \n",
    "    def perceive(self):\n",
    "        # Perceive the current state of the environment\n",
    "        return self.environment[self.location]\n",
    "    \n",
    "    def act(self, action):\n",
    "        # Act on the environment based on the given action\n",
    "        if action == \"clean\":\n",
    "            self.environment[self.location] = 0\n",
    "        elif action == \"move_left\":\n",
    "            self.location -= 1\n",
    "        elif action == \"move_right\":\n",
    "            self.location += 1\n",
    "        \n",
    "    def choose_action(self):\n",
    "        # Choose an action based on the current state of the environment\n",
    "        state = self.perceive()\n",
    "        if state == 1:\n",
    "            return \"clean\"\n",
    "        else:\n",
    "            actions = [\"move_left\", \"move_right\"]\n",
    "            return random.choice(actions)\n",
    "        \n",
    "# Create an environment with 8 squares\n",
    "environment = [1, 0, 1, 0, 0, 1, 1, 1]\n",
    "\n",
    "# Create a VacuumCleanerAgent object at location 0\n",
    "agent = VacuumCleanerAgent(0, environment)\n",
    "\n",
    "# Run the agent to clean the environment\n",
    "while any(environment):\n",
    "    action = agent.choose_action()\n",
    "    agent.act(action)\n",
    "\n",
    "# Print the final state of the environment\n",
    "print(environment)"
   ]
  },
  {
   "cell_type": "code",
   "execution_count": null,
   "id": "71e7cdec",
   "metadata": {},
   "outputs": [],
   "source": []
  }
 ],
 "metadata": {
  "kernelspec": {
   "display_name": "Python 3 (ipykernel)",
   "language": "python",
   "name": "python3"
  },
  "language_info": {
   "codemirror_mode": {
    "name": "ipython",
    "version": 3
   },
   "file_extension": ".py",
   "mimetype": "text/x-python",
   "name": "python",
   "nbconvert_exporter": "python",
   "pygments_lexer": "ipython3",
   "version": "3.9.7"
  }
 },
 "nbformat": 4,
 "nbformat_minor": 5
}
